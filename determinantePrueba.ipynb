{
  "cells": [
    {
      "cell_type": "code",
      "execution_count": 1,
      "metadata": {
        "id": "wz4_BG5G8_4h"
      },
      "outputs": [],
      "source": [
        "%load_ext autoreload"
      ]
    },
    {
      "cell_type": "markdown",
      "metadata": {
        "id": "CHhV6zaC8_4i"
      },
      "source": [
        "# Examen"
      ]
    },
    {
      "cell_type": "markdown",
      "metadata": {
        "id": "a0Nt3V8d8_4j"
      },
      "source": [
        "## Determinante"
      ]
    },
    {
      "cell_type": "markdown",
      "metadata": {
        "id": "Lm2uxCow8_4k"
      },
      "source": [
        "![image.png](attachment:image.png)"
      ]
    },
    {
      "cell_type": "code",
      "execution_count": 2,
      "metadata": {
        "id": "17bhr_-X8_4k"
      },
      "outputs": [],
      "source": [
        "A = [\n",
        "    [-4, 2, -4, -4, 1, 2, 5, 3, 5, 1],\n",
        "    [1, 0, 4, 3, 0, -2, 3, 0, 1, 5],\n",
        "    [5, 5, -4, 5, -4, 2, 2, 2, 4, 4],\n",
        "    [-1, 3, 4, -1, -4, 0, 5, 0, 0, 5],\n",
        "    [4, 1, 4, 2, 0, 0, 3, -1, 0, 2],\n",
        "    [2, -2, 1, -1, -2, -3, 2, -2, 4, -1],\n",
        "    [3, -2, -3, -2, -1, -3, 5, -1, 5, 0],\n",
        "    [3, 4, -3, 3, -2, 2, -4, -4, 1, 5],\n",
        "    [-4, 0, 3, 3, -3, -2, -2, 0, 5, -4],\n",
        "    [-2, 4, 4, -2, -1, 1, 5, -1, 3, -3],\n",
        "]"
      ]
    },
    {
      "cell_type": "markdown",
      "metadata": {
        "id": "ytue9t328_4l"
      },
      "source": [
        "# Indicaciones\n",
        "Su trabajo es ajustar el código de los métodos de resolución de sistemas de ecuaciones lineales para encontrar el valor del determinante. Tenga en cuenta las siguientes consideraciones:\n",
        "* Usar algún método de resolución de sistemas de ecuaciones lineales para calcular el determinante.\n",
        "* Usar la función creada para calcular el determinante de la matriz de ejemplo A.\n",
        "* Listar los cambios realizados.\n",
        "* Modificar y utilizar SOLO el código provisto. No se aceptarán la utilización de otras librerías o funciones."
      ]
    },
    {
      "cell_type": "code",
      "execution_count": 3,
      "metadata": {
        "id": "KXbpyfmc8_4l"
      },
      "outputs": [],
      "source": [
        "%autoreload 2\n",
        "from src import (\n",
        "    eliminacion_gaussiana,\n",
        "    descomposicion_LU,\n",
        "    resolver_LU,\n",
        "    matriz_aumentada,\n",
        "    separar_m_aumentada,\n",
        ")\n",
        "\n",
        "\n",
        "# ####################################################################\n",
        "def calc_determinante(A: list[list[float]]) -> float:\n",
        "    \"\"\"Función que calcula el determinante usando el método\n",
        "    [Descomposición LU, eliminación gaussiana, Gauss-Jordan, Gauss-Jacobi o Gauss-Seidel]\n",
        "\n",
        "    ## Parameters\n",
        "    ``A``: Matriz cuadrada de tamaño n x n\n",
        "\n",
        "    ## Return\n",
        "    ``detA``: Determinante de la matriz A\n",
        "\n",
        "    \"\"\"\n",
        "    L, U = descomposicion_LU(A)\n",
        "    print(L)\n",
        "    print(U)\n",
        "    # completar\n",
        "    detA = 1\n",
        "    for i in range(len(U)):\n",
        "      # Multiplicar los elementos de la diagonal\n",
        "        detA = detA * U[i][i]\n",
        "\n",
        "    return detA\n",
        "    # return"
      ]
    },
    {
      "cell_type": "code",
      "execution_count": 4,
      "metadata": {
        "colab": {
          "base_uri": "https://localhost:8080/"
        },
        "id": "MUaIn97-8_4m",
        "outputId": "c8f88f32-7b13-4bd8-d0fd-66c8d30f7312"
      },
      "outputs": [
        {
          "output_type": "stream",
          "name": "stdout",
          "text": [
            "[[ 1.          0.          0.          0.          0.          0.\n",
            "   0.          0.          0.          0.        ]\n",
            " [-0.25        1.          0.          0.          0.          0.\n",
            "   0.          0.          0.          0.        ]\n",
            " [-1.25       15.          1.          0.          0.          0.\n",
            "   0.          0.          0.          0.        ]\n",
            " [ 0.25        5.          0.18518519  1.          0.          0.\n",
            "   0.          0.          0.          0.        ]\n",
            " [-1.          6.          0.33333333  0.9         1.          0.\n",
            "   0.          0.          0.          0.        ]\n",
            " [-0.5        -2.         -0.09259259  0.4         0.02108434  1.\n",
            "   0.          0.          0.          0.        ]\n",
            " [-0.75       -1.          0.05555556  0.3         0.29819277  1.56153145\n",
            "   1.          0.          0.          0.        ]\n",
            " [-0.75       11.          0.72222222  0.075       0.18373494 -0.09480401\n",
            "  12.83102253  1.          0.          0.        ]\n",
            " [ 1.         -4.         -0.35185185 -1.         -1.73192771 -0.55879672\n",
            "  -4.10311958  0.38876438  1.          0.        ]\n",
            " [ 0.5         6.          0.22222222  1.2         0.65060241 -0.14220602\n",
            "  10.21577123  0.15150157 -1.16039889  1.        ]]\n",
            "[[-4.00000000e+00  2.00000000e+00 -4.00000000e+00 -4.00000000e+00\n",
            "   1.00000000e+00  2.00000000e+00  5.00000000e+00  3.00000000e+00\n",
            "   5.00000000e+00  1.00000000e+00]\n",
            " [ 0.00000000e+00  5.00000000e-01  3.00000000e+00  2.00000000e+00\n",
            "   2.50000000e-01 -1.50000000e+00  4.25000000e+00  7.50000000e-01\n",
            "   2.25000000e+00  5.25000000e+00]\n",
            " [ 0.00000000e+00  0.00000000e+00 -5.40000000e+01 -3.00000000e+01\n",
            "  -6.50000000e+00  2.70000000e+01 -5.55000000e+01 -5.50000000e+00\n",
            "  -2.35000000e+01 -7.35000000e+01]\n",
            " [ 0.00000000e+00  0.00000000e+00  0.00000000e+00 -4.44444444e+00\n",
            "  -4.29629630e+00  2.00000000e+00 -7.22222222e+00 -3.48148148e+00\n",
            "  -8.14814815e+00 -7.88888889e+00]\n",
            " [ 0.00000000e+00  0.00000000e+00  0.00000000e+00  0.00000000e+00\n",
            "   5.53333333e+00  2.00000000e-01  7.50000000e+00  2.46666667e+00\n",
            "   6.66666667e+00  3.10000000e+00]\n",
            " [ 0.00000000e+00  0.00000000e+00  0.00000000e+00  0.00000000e+00\n",
            "   0.00000000e+00 -3.30421687e+00  1.05918675e+01  1.83132530e+00\n",
            "   1.19427711e+01  6.28463855e+00]\n",
            " [ 0.00000000e+00  0.00000000e+00  0.00000000e+00  0.00000000e+00\n",
            "  -2.22044605e-16  0.00000000e+00 -5.25979945e-01 -2.45214221e-01\n",
            "  -5.88696445e+00  1.71194166e+00]\n",
            " [ 0.00000000e+00  0.00000000e+00  0.00000000e+00  0.00000000e+00\n",
            "   0.00000000e+00  0.00000000e+00  0.00000000e+00 -2.89991334e+00\n",
            "   7.30264298e+01 -2.02647314e+01]\n",
            " [ 0.00000000e+00  0.00000000e+00  0.00000000e+00  0.00000000e+00\n",
            "   0.00000000e+00  0.00000000e+00  0.00000000e+00  0.00000000e+00\n",
            "  -4.17418945e+01  6.03331839e+00]\n",
            " [ 0.00000000e+00  0.00000000e+00  0.00000000e+00  0.00000000e+00\n",
            "   0.00000000e+00  0.00000000e+00  0.00000000e+00  0.00000000e+00\n",
            "   0.00000000e+00 -1.77407639e+01]]\n"
          ]
        },
        {
          "output_type": "execute_result",
          "data": {
            "text/plain": [
              "9912776.000000015"
            ]
          },
          "metadata": {},
          "execution_count": 4
        }
      ],
      "source": [
        "calc_determinante(A)"
      ]
    },
    {
      "cell_type": "markdown",
      "source": [
        "Ahora, para la Matriz $A_2$"
      ],
      "metadata": {
        "id": "qgjLdwSs-_Wq"
      }
    },
    {
      "cell_type": "markdown",
      "source": [
        "Matriz de permutación"
      ],
      "metadata": {
        "id": "OiFJCGlSGGPB"
      }
    },
    {
      "cell_type": "code",
      "source": [
        "P = [    [0, 0, 0, 0, 0, 1, 0, 0],\n",
        "    [0, 0, 0, 0, 0, 0, 1, 0],\n",
        "    [0, 0, 0, 0, 0, 0, 0, 1],\n",
        "    [0, 0, 0, 1, 0, 0, 0, 0],\n",
        "    [0, 0, 0, 0, 1, 0, 0, 0],\n",
        "    [1, 0, 0, 0, 0, 0, 0, 0],\n",
        "    [0, 0, 1, 0, 0, 0, 0, 0],\n",
        "    [0, 1, 0, 0, 0, 0, 0, 0]\n",
        "]\n"
      ],
      "metadata": {
        "id": "OG6SZwbXFCsZ"
      },
      "execution_count": 5,
      "outputs": []
    },
    {
      "cell_type": "code",
      "source": [
        "B = [\n",
        "    [2,2,4,5,-2,-3,2,-2],\n",
        "    [-1,-1,3,2,1,1,-4,4],\n",
        "    [2,5,-3,-3,-2,2,5,3],\n",
        "    [-2,-4,0,1,-1,5,-4,-1],\n",
        "    [1,-2,-1,5,5,2,1,-2],\n",
        "    [5,4,0,3,4,-1,-3,-2],\n",
        "    [4,-4,1,2,3,3,-1,3],\n",
        "    [-2,1,-3,0,5,4,4,-4]\n",
        "]"
      ],
      "metadata": {
        "id": "VGcoCLm1_GYy"
      },
      "execution_count": 6,
      "outputs": []
    },
    {
      "cell_type": "code",
      "source": [
        "def multiplicar_matrices(A, B):\n",
        "    # Verificar si las dimensiones son adecuadas para la multiplicación de matrices\n",
        "    if len(A[0]) != len(B):\n",
        "        raise ValueError(\"Las dimensiones de las matrices no son adecuadas para la multiplicación.\")\n",
        "\n",
        "    # Inicializar la matriz resultante con ceros\n",
        "    rows_A = len(A)\n",
        "    cols_A = len(A[0])\n",
        "    cols_B = len(B[0])\n",
        "    C = [[0 for _ in range(cols_B)] for _ in range(rows_A)]\n",
        "\n",
        "    # Realizar la multiplicación de matrices\n",
        "    for i in range(rows_A):\n",
        "        for j in range(cols_B):\n",
        "            for k in range(cols_A):\n",
        "                C[i][j] += A[i][k] * B[k][j]\n",
        "\n",
        "    return C"
      ],
      "metadata": {
        "id": "4HfSTF-5Fp7K"
      },
      "execution_count": 7,
      "outputs": []
    },
    {
      "cell_type": "code",
      "source": [
        "pb = multiplicar_matrices(P,B)\n",
        "print(pb)"
      ],
      "metadata": {
        "colab": {
          "base_uri": "https://localhost:8080/"
        },
        "id": "Y94_ivJWFv0i",
        "outputId": "c19a946d-6f94-4aa8-9460-2ddf26f0d275"
      },
      "execution_count": 8,
      "outputs": [
        {
          "output_type": "stream",
          "name": "stdout",
          "text": [
            "[[5, 4, 0, 3, 4, -1, -3, -2], [4, -4, 1, 2, 3, 3, -1, 3], [-2, 1, -3, 0, 5, 4, 4, -4], [-2, -4, 0, 1, -1, 5, -4, -1], [1, -2, -1, 5, 5, 2, 1, -2], [2, 2, 4, 5, -2, -3, 2, -2], [2, 5, -3, -3, -2, 2, 5, 3], [-1, -1, 3, 2, 1, 1, -4, 4]]\n"
          ]
        }
      ]
    },
    {
      "cell_type": "code",
      "source": [
        "calc_determinante(pb)"
      ],
      "metadata": {
        "colab": {
          "base_uri": "https://localhost:8080/"
        },
        "id": "10toABfI_soR",
        "outputId": "069634c7-ce80-4bf7-a7ac-b8d42cc7c628"
      },
      "execution_count": 9,
      "outputs": [
        {
          "output_type": "stream",
          "name": "stdout",
          "text": [
            "[[ 1.          0.          0.          0.          0.          0.\n",
            "   0.          0.        ]\n",
            " [ 0.8         1.          0.          0.          0.          0.\n",
            "   0.          0.        ]\n",
            " [-0.4        -0.36111111  1.          0.          0.          0.\n",
            "   0.          0.        ]\n",
            " [-0.4         0.33333333  0.12631579  1.          0.          0.\n",
            "   0.          0.        ]\n",
            " [ 0.2         0.38888889  0.52631579  1.81818182  1.          0.\n",
            "   0.          0.        ]\n",
            " [ 0.4        -0.05555556 -1.53684211  2.45454545  6.02966102  1.\n",
            "   0.          0.        ]\n",
            " [ 0.4        -0.47222222  0.95789474 -2.45454545 -9.15254237 -1.41801879\n",
            "   1.          0.        ]\n",
            " [-0.2         0.02777778 -1.12631579  1.72727273  8.35169492  1.47438087\n",
            "  -0.68333695  1.        ]]\n",
            "[[ 5.00000000e+00  4.00000000e+00  0.00000000e+00  3.00000000e+00\n",
            "   4.00000000e+00 -1.00000000e+00 -3.00000000e+00 -2.00000000e+00]\n",
            " [ 0.00000000e+00 -7.20000000e+00  1.00000000e+00 -4.00000000e-01\n",
            "  -2.00000000e-01  3.80000000e+00  1.40000000e+00  4.60000000e+00]\n",
            " [ 0.00000000e+00  0.00000000e+00 -2.63888889e+00  1.05555556e+00\n",
            "   6.52777778e+00  4.97222222e+00  3.30555556e+00 -3.13888889e+00]\n",
            " [ 0.00000000e+00  0.00000000e+00  0.00000000e+00  2.20000000e+00\n",
            "  -1.57894737e-01  2.70526316e+00 -6.08421053e+00 -2.93684211e+00]\n",
            " [ 0.00000000e+00  0.00000000e+00  0.00000000e+00  0.00000000e+00\n",
            "   1.12918660e+00 -6.81339713e+00  1.03779904e+01  3.60287081e+00]\n",
            " [ 0.00000000e+00  0.00000000e+00  0.00000000e+00  0.00000000e+00\n",
            "   0.00000000e+00  3.96949153e+01 -3.92838983e+01 -2.02838983e+01]\n",
            " [ 0.00000000e+00  0.00000000e+00  0.00000000e+00  0.00000000e+00\n",
            "   1.77635684e-15  0.00000000e+00  2.80404569e+01  5.98281383e+00]\n",
            " [ 0.00000000e+00  0.00000000e+00  4.44089210e-16  0.00000000e+00\n",
            "  -1.77635684e-15  0.00000000e+00  0.00000000e+00  8.91396093e+00]]\n"
          ]
        },
        {
          "output_type": "execute_result",
          "data": {
            "text/plain": [
              "2341546.000000003"
            ]
          },
          "metadata": {},
          "execution_count": 9
        }
      ]
    }
  ],
  "metadata": {
    "kernelspec": {
      "display_name": "Python 3",
      "language": "python",
      "name": "python3"
    },
    "language_info": {
      "codemirror_mode": {
        "name": "ipython",
        "version": 3
      },
      "file_extension": ".py",
      "mimetype": "text/x-python",
      "name": "python",
      "nbconvert_exporter": "python",
      "pygments_lexer": "ipython3",
      "version": "3.10.11"
    },
    "colab": {
      "provenance": []
    }
  },
  "nbformat": 4,
  "nbformat_minor": 0
}