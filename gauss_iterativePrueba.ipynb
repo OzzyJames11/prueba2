{
  "cells": [
    {
      "cell_type": "code",
      "execution_count": 1,
      "metadata": {
        "id": "0w77XWB7NEpY"
      },
      "outputs": [],
      "source": [
        "%load_ext autoreload"
      ]
    },
    {
      "cell_type": "markdown",
      "metadata": {
        "id": "xZ3IUCU9NEpb"
      },
      "source": [
        "# Examen\n",
        "## Gauss-Jacobi y Gauss-Seidel"
      ]
    },
    {
      "cell_type": "code",
      "execution_count": 2,
      "metadata": {
        "colab": {
          "base_uri": "https://localhost:8080/"
        },
        "id": "L44nRz79NEpd",
        "outputId": "6e1fd96b-fafb-4025-8b8f-ba9e624566af"
      },
      "outputs": [
        {
          "output_type": "execute_result",
          "data": {
            "text/plain": [
              "array([5., 2.])"
            ]
          },
          "metadata": {},
          "execution_count": 2
        }
      ],
      "source": [
        "%autoreload 2\n",
        "from src import eliminacion_gaussiana, matriz_aumentada\n",
        "A = [[1, 1], [-2, 5]]\n",
        "b = [7, 0]\n",
        "eliminacion_gaussiana(matriz_aumentada(A, b))"
      ]
    },
    {
      "cell_type": "code",
      "execution_count": 4,
      "metadata": {
        "colab": {
          "base_uri": "https://localhost:8080/"
        },
        "id": "IwnzstgzNEpe",
        "outputId": "f9f6b5f1-a960-4140-9c9d-683f240dd87d"
      },
      "outputs": [
        {
          "output_type": "execute_result",
          "data": {
            "text/plain": [
              "array([[5.00000537],\n",
              "       [2.00000215]])"
            ]
          },
          "metadata": {},
          "execution_count": 4
        }
      ],
      "source": [
        "%autoreload 2\n",
        "from src import gauss_jacobi\n",
        "A = [[1, 1], [-2, 5]]\n",
        "b = [7, 0]\n",
        "n = len(A)\n",
        "\n",
        "gauss_jacobi(A=A, b=b, x0=[0]*n, tol=1e-5, max_iter=1000)\n"
      ]
    },
    {
      "cell_type": "markdown",
      "metadata": {
        "id": "EiaNa_aLNEpe"
      },
      "source": [
        "\n",
        "![alt text](assets/trayectoria.png)\n"
      ]
    },
    {
      "cell_type": "markdown",
      "metadata": {
        "id": "vBpKuUxbNEpf"
      },
      "source": [
        "## Grafique"
      ]
    },
    {
      "cell_type": "code",
      "execution_count": null,
      "metadata": {
        "id": "HAh5e1MXNEpf"
      },
      "outputs": [],
      "source": []
    },
    {
      "cell_type": "markdown",
      "metadata": {
        "id": "L7bD0f9zNEpf"
      },
      "source": [
        "## Use otra estimación inicial\n",
        "$ x_0 = (1, 1)$"
      ]
    },
    {
      "cell_type": "markdown",
      "metadata": {
        "id": "vPwuxfWSNEpg"
      },
      "source": [
        "# Grafique"
      ]
    },
    {
      "cell_type": "code",
      "execution_count": null,
      "metadata": {
        "id": "Ss7-08SINEpg"
      },
      "outputs": [],
      "source": []
    },
    {
      "cell_type": "markdown",
      "metadata": {
        "id": "dkdAYFhUNEpg"
      },
      "source": [
        "## Gauss-Seidel"
      ]
    },
    {
      "cell_type": "code",
      "execution_count": 5,
      "metadata": {
        "colab": {
          "base_uri": "https://localhost:8080/"
        },
        "id": "x_REqx5qNEph",
        "outputId": "4b876114-d813-47a6-ab66-9149c924603e"
      },
      "outputs": [
        {
          "output_type": "execute_result",
          "data": {
            "text/plain": [
              "array([[4.99999785],\n",
              "       [1.99999914]])"
            ]
          },
          "metadata": {},
          "execution_count": 5
        }
      ],
      "source": [
        "%autoreload 2\n",
        "from src import gauss_seidel\n",
        "# ----------\n",
        "A = [[1, 1], [-2, 5]]\n",
        "b = [7, 0]\n",
        "n = len(b)\n",
        "gauss_seidel(A=A, b=b, x0=[0]*n, tol=1e-5, max_iter=1000)\n"
      ]
    },
    {
      "cell_type": "markdown",
      "metadata": {
        "id": "c48jGkqKNEph"
      },
      "source": [
        "## Grafique el método de Gauss-Seidel\n"
      ]
    },
    {
      "cell_type": "code",
      "execution_count": null,
      "metadata": {
        "id": "3tuFinL-NEph"
      },
      "outputs": [],
      "source": []
    },
    {
      "cell_type": "markdown",
      "metadata": {
        "id": "__X7vYxSNEpi"
      },
      "source": [
        "# Resuelva\n",
        "\n",
        "$ x_1 + x_2 = 6$\n",
        "\n",
        "$  -2 x_1 +  x_2 = 0$"
      ]
    },
    {
      "cell_type": "code",
      "execution_count": 9,
      "metadata": {
        "colab": {
          "base_uri": "https://localhost:8080/"
        },
        "id": "nmF9Nmq3NEpi",
        "outputId": "c840ee44-1c27-451a-859c-96afcff17ed9"
      },
      "outputs": [
        {
          "output_type": "stream",
          "name": "stdout",
          "text": [
            "[[5.]\n",
            " [2.]]\n"
          ]
        }
      ],
      "source": [
        "%autoreload 2\n",
        "from src import (\n",
        "    eliminacion_gaussiana,\n",
        "    descomposicion_LU,\n",
        "    resolver_LU,\n",
        "    matriz_aumentada,\n",
        "    separar_m_aumentada,\n",
        ")\n",
        "\n",
        "L, U = descomposicion_LU(A)\n",
        "solucion = resolver_LU(L, U, b)\n",
        "print(solucion)"
      ]
    }
  ],
  "metadata": {
    "kernelspec": {
      "display_name": "Python 3",
      "language": "python",
      "name": "python3"
    },
    "language_info": {
      "codemirror_mode": {
        "name": "ipython",
        "version": 3
      },
      "file_extension": ".py",
      "mimetype": "text/x-python",
      "name": "python",
      "nbconvert_exporter": "python",
      "pygments_lexer": "ipython3",
      "version": "3.10.11"
    },
    "colab": {
      "provenance": []
    }
  },
  "nbformat": 4,
  "nbformat_minor": 0
}